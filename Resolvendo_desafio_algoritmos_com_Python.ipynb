{
  "nbformat": 4,
  "nbformat_minor": 0,
  "metadata": {
    "colab": {
      "name": "Resolvendo desafio algoritmos com Python.ipynb",
      "provenance": [],
      "collapsed_sections": [],
      "authorship_tag": "ABX9TyNSbz5geKd9OHqeHqGip/Wj",
      "include_colab_link": true
    },
    "kernelspec": {
      "name": "python3",
      "display_name": "Python 3"
    },
    "language_info": {
      "name": "python"
    }
  },
  "cells": [
    {
      "cell_type": "markdown",
      "metadata": {
        "id": "view-in-github",
        "colab_type": "text"
      },
      "source": [
        "<a href=\"https://colab.research.google.com/github/Leo-alves2/Desafio-Algoritimo-Python/blob/main/Resolvendo_desafio_algoritmos_com_Python.ipynb\" target=\"_parent\"><img src=\"https://colab.research.google.com/assets/colab-badge.svg\" alt=\"Open In Colab\"/></a>"
      ]
    },
    {
      "cell_type": "markdown",
      "metadata": {
        "id": "6ND_wws_v5Lb"
      },
      "source": [
        "### 1 / 3 - Fibonacci Fácil"
      ]
    },
    {
      "cell_type": "markdown",
      "metadata": {
        "id": "eAcJTvgqwPA6"
      },
      "source": [
        "A seguinte sequência de números 0 1 1 2 3 5 8 13 21... é conhecida como série de Fibonacci. Nessa sequência, cada número, depois dos 2 primeiros, é igual à soma dos 2 anteriores. Escreva um algoritmo que leia um inteiro N (N < 46) e mostre os N primeiros números dessa série.\n",
        "\n",
        "## Entrada\n",
        "\n",
        "O arquivo de entrada contém um valor inteiro N (0 < N < 46).\n",
        "\n",
        "## Saída\n",
        "\n",
        "Os valores devem ser mostrados na mesma linha, separados por um espaço em branco. Não deve haver espaço após o último valor.\n",
        "\n",
        "## Exemplo\n",
        "\n",
        "\n",
        "---\n",
        "\n",
        "![Fibonacci.png](data:image/png;base64,iVBORw0KGgoAAAANSUhEUgAAAYcAAABQCAIAAAB9MC4KAAAACXBIWXMAAAsTAAALEwEAmpwYAAAKT2lDQ1BQaG90b3Nob3AgSUNDIHByb2ZpbGUAAHjanVNnVFPpFj333vRCS4iAlEtvUhUIIFJCi4AUkSYqIQkQSoghodkVUcERRUUEG8igiAOOjoCMFVEsDIoK2AfkIaKOg6OIisr74Xuja9a89+bN/rXXPues852zzwfACAyWSDNRNYAMqUIeEeCDx8TG4eQuQIEKJHAAEAizZCFz/SMBAPh+PDwrIsAHvgABeNMLCADATZvAMByH/w/qQplcAYCEAcB0kThLCIAUAEB6jkKmAEBGAYCdmCZTAKAEAGDLY2LjAFAtAGAnf+bTAICd+Jl7AQBblCEVAaCRACATZYhEAGg7AKzPVopFAFgwABRmS8Q5ANgtADBJV2ZIALC3AMDOEAuyAAgMADBRiIUpAAR7AGDIIyN4AISZABRG8lc88SuuEOcqAAB4mbI8uSQ5RYFbCC1xB1dXLh4ozkkXKxQ2YQJhmkAuwnmZGTKBNA/g88wAAKCRFRHgg/P9eM4Ors7ONo62Dl8t6r8G/yJiYuP+5c+rcEAAAOF0ftH+LC+zGoA7BoBt/qIl7gRoXgugdfeLZrIPQLUAoOnaV/Nw+H48PEWhkLnZ2eXk5NhKxEJbYcpXff5nwl/AV/1s+X48/Pf14L7iJIEyXYFHBPjgwsz0TKUcz5IJhGLc5o9H/LcL//wd0yLESWK5WCoU41EScY5EmozzMqUiiUKSKcUl0v9k4t8s+wM+3zUAsGo+AXuRLahdYwP2SycQWHTA4vcAAPK7b8HUKAgDgGiD4c93/+8//UegJQCAZkmScQAAXkQkLlTKsz/HCAAARKCBKrBBG/TBGCzABhzBBdzBC/xgNoRCJMTCQhBCCmSAHHJgKayCQiiGzbAdKmAv1EAdNMBRaIaTcA4uwlW4Dj1wD/phCJ7BKLyBCQRByAgTYSHaiAFiilgjjggXmYX4IcFIBBKLJCDJiBRRIkuRNUgxUopUIFVIHfI9cgI5h1xGupE7yAAygvyGvEcxlIGyUT3UDLVDuag3GoRGogvQZHQxmo8WoJvQcrQaPYw2oefQq2gP2o8+Q8cwwOgYBzPEbDAuxsNCsTgsCZNjy7EirAyrxhqwVqwDu4n1Y8+xdwQSgUXACTYEd0IgYR5BSFhMWE7YSKggHCQ0EdoJNwkDhFHCJyKTqEu0JroR+cQYYjIxh1hILCPWEo8TLxB7iEPENyQSiUMyJ7mQAkmxpFTSEtJG0m5SI+ksqZs0SBojk8naZGuyBzmULCAryIXkneTD5DPkG+Qh8lsKnWJAcaT4U+IoUspqShnlEOU05QZlmDJBVaOaUt2ooVQRNY9aQq2htlKvUYeoEzR1mjnNgxZJS6WtopXTGmgXaPdpr+h0uhHdlR5Ol9BX0svpR+iX6AP0dwwNhhWDx4hnKBmbGAcYZxl3GK+YTKYZ04sZx1QwNzHrmOeZD5lvVVgqtip8FZHKCpVKlSaVGyovVKmqpqreqgtV81XLVI+pXlN9rkZVM1PjqQnUlqtVqp1Q61MbU2epO6iHqmeob1Q/pH5Z/YkGWcNMw09DpFGgsV/jvMYgC2MZs3gsIWsNq4Z1gTXEJrHN2Xx2KruY/R27iz2qqaE5QzNKM1ezUvOUZj8H45hx+Jx0TgnnKKeX836K3hTvKeIpG6Y0TLkxZVxrqpaXllirSKtRq0frvTau7aedpr1Fu1n7gQ5Bx0onXCdHZ4/OBZ3nU9lT3acKpxZNPTr1ri6qa6UbobtEd79up+6Ynr5egJ5Mb6feeb3n+hx9L/1U/W36p/VHDFgGswwkBtsMzhg8xTVxbzwdL8fb8VFDXcNAQ6VhlWGX4YSRudE8o9VGjUYPjGnGXOMk423GbcajJgYmISZLTepN7ppSTbmmKaY7TDtMx83MzaLN1pk1mz0x1zLnm+eb15vft2BaeFostqi2uGVJsuRaplnutrxuhVo5WaVYVVpds0atna0l1rutu6cRp7lOk06rntZnw7Dxtsm2qbcZsOXYBtuutm22fWFnYhdnt8Wuw+6TvZN9un2N/T0HDYfZDqsdWh1+c7RyFDpWOt6azpzuP33F9JbpL2dYzxDP2DPjthPLKcRpnVOb00dnF2e5c4PziIuJS4LLLpc+Lpsbxt3IveRKdPVxXeF60vWdm7Obwu2o26/uNu5p7ofcn8w0nymeWTNz0MPIQ+BR5dE/C5+VMGvfrH5PQ0+BZ7XnIy9jL5FXrdewt6V3qvdh7xc+9j5yn+M+4zw33jLeWV/MN8C3yLfLT8Nvnl+F30N/I/9k/3r/0QCngCUBZwOJgUGBWwL7+Hp8Ib+OPzrbZfay2e1BjKC5QRVBj4KtguXBrSFoyOyQrSH355jOkc5pDoVQfujW0Adh5mGLw34MJ4WHhVeGP45wiFga0TGXNXfR3ENz30T6RJZE3ptnMU85ry1KNSo+qi5qPNo3ujS6P8YuZlnM1VidWElsSxw5LiquNm5svt/87fOH4p3iC+N7F5gvyF1weaHOwvSFpxapLhIsOpZATIhOOJTwQRAqqBaMJfITdyWOCnnCHcJnIi/RNtGI2ENcKh5O8kgqTXqS7JG8NXkkxTOlLOW5hCepkLxMDUzdmzqeFpp2IG0yPTq9MYOSkZBxQqohTZO2Z+pn5mZ2y6xlhbL+xW6Lty8elQfJa7OQrAVZLQq2QqboVFoo1yoHsmdlV2a/zYnKOZarnivN7cyzytuQN5zvn//tEsIS4ZK2pYZLVy0dWOa9rGo5sjxxedsK4xUFK4ZWBqw8uIq2Km3VT6vtV5eufr0mek1rgV7ByoLBtQFr6wtVCuWFfevc1+1dT1gvWd+1YfqGnRs+FYmKrhTbF5cVf9go3HjlG4dvyr+Z3JS0qavEuWTPZtJm6ebeLZ5bDpaql+aXDm4N2dq0Dd9WtO319kXbL5fNKNu7g7ZDuaO/PLi8ZafJzs07P1SkVPRU+lQ27tLdtWHX+G7R7ht7vPY07NXbW7z3/T7JvttVAVVN1WbVZftJ+7P3P66Jqun4lvttXa1ObXHtxwPSA/0HIw6217nU1R3SPVRSj9Yr60cOxx++/p3vdy0NNg1VjZzG4iNwRHnk6fcJ3/ceDTradox7rOEH0x92HWcdL2pCmvKaRptTmvtbYlu6T8w+0dbq3nr8R9sfD5w0PFl5SvNUyWna6YLTk2fyz4ydlZ19fi753GDborZ752PO32oPb++6EHTh0kX/i+c7vDvOXPK4dPKy2+UTV7hXmq86X23qdOo8/pPTT8e7nLuarrlca7nuer21e2b36RueN87d9L158Rb/1tWeOT3dvfN6b/fF9/XfFt1+cif9zsu72Xcn7q28T7xf9EDtQdlD3YfVP1v+3Njv3H9qwHeg89HcR/cGhYPP/pH1jw9DBY+Zj8uGDYbrnjg+OTniP3L96fynQ89kzyaeF/6i/suuFxYvfvjV69fO0ZjRoZfyl5O/bXyl/erA6xmv28bCxh6+yXgzMV70VvvtwXfcdx3vo98PT+R8IH8o/2j5sfVT0Kf7kxmTk/8EA5jz/GMzLdsAAAAgY0hSTQAAeiUAAICDAAD5/wAAgOkAAHUwAADqYAAAOpgAABdvkl/FRgAACGNJREFUeNrs3W9IG2keB/Bfl76N3OqNcKtc3TgUJjIowvlvrasvJC9yPWE4u5y3MgVdym3eiS2GvJC8CHFbXy1kj4PIOni3C+sxEMq8CL6oZ0VjD4JlMAPbONVj7YFDC2u49/tiZmImmayxTVzlvh98UZL58+R5fn6f5xmLXtNe6L+//QcCqI9/fPPtnyf+hH6A6r2HLgAApBIAAFIJAJBKAABIJQBAKgEAIJUAAKkEAIBUAgCkEgAAUgkA4GdTKaaoOc3+epaYquOtI6lzXj+mqKnoGcdMLW+dtl9Lxmrd6GraAOdS7yFzDt/WinieE6LJnBKppirs9le+fjSZ05zFIyYy9f0Wu6qul7+0L/P+8BX+SCc7i913pbMzUSF/YB4VcHWG7PKmqt9YZANntD9Guyw3hrGuxQ5OTGQK8R9N2lOZuPLMOTOIidRyIlVYYUWT1tRhzTORlJIoPcV1tnSZOiIpexZtNfLlL549tRa3zbp7JKUJ7V4hp6mZZXFqObkSTWTsuxdN3YWLu7TB7TCoCXHlmZpZFgs9b64vCh1++tZpUSVjYiLjLKGYklwpPaV05VJp+Aprn1SLcVLUqjNWQ86P4PwWIOoaNU88/SAjZJQWmFtTkUpE1C4Udag03b2Q7QgmpiiSEmiVGwsRTS3fa17jWY5nubXmoFUETC+T4XiW42NZX6hrl+V4llvcZqyRIK+P4jzL8ax1NUd9hJg1luNZjmfXmKBzVGKKQLJ5r93mXo/94ujxgnk1w1+2wG7onS3JuELbWNnovxMhmvcv7JzoMsvx3XclIqZ/lOIcz/ZMLxEt3R2wGiOTf1ms1Ibyw+CtOYdMmuxZ3PPdWxGtnveHicRE0C6SFHOvtKhkGg9SnONZjl81eu9YuyRvB/3NrEPzao65dtSIcRVKKJocJ9m8V4bpbbAmIZeatythzeiddU6o0mSPeTC/SqMltw76suat4+Rrt16d95uN4Rb3fAImufdcd3DW95u5wZGm41lfSBs9XhgLERGJwz6PnVxCu8c3bHa6vhsqLMgN3RybH+y5gPLZdXOFKz3dI/sUc7xbmP1deyf1vUG+W0WjK7YyesbaTs5ndGti6fZ6+ufUnKbm5nobvF2xsu2A1f6e6SVytu37wtTn/Mhr9pHFc6ngrdyG8sPgnXZwziGTJuPZjjnVbyyaDxOmRnwNXsFMrnGvp2NEdBQVERlH5gjmThfU+b0nVs2tZ8k6xXSToexTa8SlI8NZQsUFGdo1x7tCzRdnSpyCZYv9mKKOl1RH0a2XnmRPSldYs/0elIPbc6UKPM03C//WzUVTUX/WqDnSkRFsOfuw/E6spyxHaiOS0oR2ItJlVqZMyzseBu+2hmK8lR93Rmp0E/0431XNYaU1X1q6090SxRT1TpSWyJqr9mV+lbZaq3gyFer1EOW3Fxa3gwLGvYr/GWCtOWUSzB249IPh7T7vz6E8DGtd7VYHFU1xREtHRnuXXWHRrnZ70qPSe4mtjF1GVDJZvRWmxeXHH2ILk9+JcTwbmJ9qYSq2weUwqOmjpaBvb4FfJcF8qOQoknPPo+Kwj+x1U9mSXLzVQUaO3AvSrQbONtXCmKs/f7hQtG63vsmY20OW8ezLPMsNTEreZqyVXNdK7YKaE+wlyRoTEmiVG1siWpKTOS1J3FgoIKe0omOqWbbkGb+mjtuTnuP48NiqouY0wZ6RHD8XK7pXfl/PW5v2+K3MnJqbM8+QWeeP0hp6Z3Pa7Bnzm/R0Lzgb0tTgzmLc7fUQ0YmuG0aFNrgdBu/2XKkwZLvdmkAy75eIJDmlqSni/Y4iyW8vDExKVdTcqF2lusxKjnVNfGTLHD7zapUK8kTXT0rrsLTmHds0XWbDRGI2OGd+ovy+bhxThVvr+r69T8xZ33T6vo5yoGsX8nu7I6lnLd/Va88Fl9ov9Xu7Y8pW63fVhBdcxR0cAABSCQD+b12/kLvM+3vQ1XChQoEBdALWSgAASCUAQCoBACCVAACpBACAVAIAQCoBAFIJAACpBABIJQCAt3RNe6H/mP8fOgIALonrRNT+W/wuRaiX/f8cocAAOzgAQCoBACCVAACpBACAVAIApBIAAFIJAACpBABIJQAApBIAIJUAAJBKAIBUAgC4kFR6rTzoGxwyv2aUN+ggqL83j++bJffg8bHb+8/jffeV1+7n7n3petaxMjNY4Zqnb6HCL6nyv+h9Iyw/vN2MnoEL8lpZePnpRvoR0bEy80gZeBRoKnpX/WroM/pkgiqkVZAmJtxi7p8U3txoIpdrqv+236I3j+8vPP4dqv3Sr5VeHR6iU+AiF0pb6zdGOomIqLl/hP615Vja7NFHG+nPh13PVGk4vRkccXmn8fbndgw1t7U53+MDhYRqbPsQ/X8VUokoHRWG+gaHKq+ZAWrovy+3T9OkLCY6+M6KZ/KdHVUsxKSD4f4m963f0Nc35rBQuvyp9OaDP26kNzfSmxvpTw8CCCa40p7HA+sfhwONZVH1oG9wfST+yVbsWxW9dOlTqbGpMHV0Dk9sH7xCD0F9/ebD/tNJ8eBl7S58rMz8vU1xPqUyNQUepjeDfGdQCR1+jQfeV2EHVxjUg4P+tg/QQ1BfjQPDh0+e27s5+nigJluqY2XmEYXdIqnYq8N0W2sjxuCyuV622f7LN9a/+8Lywyb0ENRZU0CkwaE+IiKaiG/UouT2vhS+2CIKDH5RqOTC8yP1q6HP7BKnib+mOzECl8417YX+6/d/hY6AOsHfOIHa7eAAAJBKAABIJQBAKgEAIJUAAKkEAIBUAgCkEgAAUgkAkEoAAEglAEAqAQAglQAAkEoAgFQCAEAqAQBSCQAAqQQASCUAAKQSACCVAACQSgAARD8NADyTafCrLh5LAAAAAElFTkSuQmCC)\n",
        "\n"
      ]
    },
    {
      "cell_type": "code",
      "metadata": {
        "colab": {
          "base_uri": "https://localhost:8080/"
        },
        "id": "AQjYvxDewHA6",
        "outputId": "667e39bf-cd16-4a2e-9f9b-6e8c385a25e6"
      },
      "source": [
        "n = int(input())\n",
        "\n",
        "fib_list = [0]\n",
        "\n",
        "n = n - 1\n",
        "\n",
        "a = 0\n",
        "\n",
        "b = 1\n",
        "\n",
        "for i in range(n):\n",
        "\n",
        "  som = a + b\n",
        "\n",
        "  a = b\n",
        "\n",
        "  b = som\n",
        "\n",
        "  fib_list.append(a)\n",
        "\n",
        "\n",
        "\n",
        "fib_string = (' '.join(str(x) for x in fib_list))\n",
        "\n",
        "print(fib_string)"
      ],
      "execution_count": 1,
      "outputs": [
        {
          "output_type": "stream",
          "name": "stdout",
          "text": [
            "5\n",
            "0 1 1 2 3\n"
          ]
        }
      ]
    },
    {
      "cell_type": "markdown",
      "metadata": {
        "id": "eO6LrpcMxz0V"
      },
      "source": [
        "### 2 / 3 - Exibindo Números Pares"
      ]
    },
    {
      "cell_type": "markdown",
      "metadata": {
        "id": "2rBXqlCcyMM8"
      },
      "source": [
        "Crie um programa que leia um número e mostre os números pares até esse número, inclusive ele mesmo.\n",
        "\n",
        "## Entrada\n",
        "\n",
        "Você receberá 1 valor inteiro N, onde N > 0.\n",
        "\n",
        "## Saída\n",
        "\n",
        "Exiba todos os números pares até o valor de entrada, sendo um em cada linha. \n",
        "\n",
        "## Exemplo\n",
        "\n",
        "![numeros.png](data:image/png;base64,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)"
      ]
    },
    {
      "cell_type": "code",
      "metadata": {
        "colab": {
          "base_uri": "https://localhost:8080/"
        },
        "id": "EO9PGf6evpy4",
        "outputId": "98869bd9-845a-457a-d461-2c03634693fe"
      },
      "source": [
        "n = int(input())\n",
        "\n",
        "for i in range(1,n+1):\n",
        "    if i % 2 == 0:\n",
        "     print(i)"
      ],
      "execution_count": 2,
      "outputs": [
        {
          "output_type": "stream",
          "name": "stdout",
          "text": [
            "6\n",
            "2\n",
            "4\n",
            "6\n"
          ]
        }
      ]
    },
    {
      "cell_type": "markdown",
      "metadata": {
        "id": "BvlI5N6vzFr8"
      },
      "source": [
        "### 3 / 3 - A Resposta de Theon"
      ]
    },
    {
      "cell_type": "markdown",
      "metadata": {
        "id": "vMM8yG-_zNED"
      },
      "source": [
        "Ramsay: \"(...) você vence se conseguir adivinhar quem eu sou e por que estou torturando você.\"\n",
        "\n",
        "Theon deve pensar rápido e adivinhar quem é seu algoz! Entretanto, Ramsay já decidiu o que ele irá fazer depois que Theon der sua resposta.\n",
        "\n",
        "Theon pode dizer que seu algoz é alguma dentre N pessoas. Considere que as pessoas são numeradas de 1 a N. Se Theon responder que seu algoz é a pessoa i, Ramsay irá atingi-lo Ti vezes.\n",
        "\n",
        "Sua tarefa é ajudar Theon a determinar qual deve ser sua resposta de forma a minimizar o número de vezes que ele será atingido.\n",
        "\n",
        "## Entrada\n",
        "\n",
        "A primeira linha contém um inteiro N (1 ≤ N ≤ 100). A segunda linha contém N inteiros T1, T2, ..., TN (0 ≤ Ti ≤ 20).\n",
        "\n",
        "## Saída\n",
        "\n",
        "Imprima uma linha contendo o número da pessoa que Theon deve dizer ser seu algoz. Se existe mais de uma resposta possível, imprima a menor.\n",
        "\n",
        "## Exemplos\n",
        "\n",
        "![Theon.png](data:image/png;base64,iVBORw0KGgoAAAANSUhEUgAAAYgAAAC/CAIAAABrKdzQAAAACXBIWXMAAAsTAAALEwEAmpwYAAAKT2lDQ1BQaG90b3Nob3AgSUNDIHByb2ZpbGUAAHjanVNnVFPpFj333vRCS4iAlEtvUhUIIFJCi4AUkSYqIQkQSoghodkVUcERRUUEG8igiAOOjoCMFVEsDIoK2AfkIaKOg6OIisr74Xuja9a89+bN/rXXPues852zzwfACAyWSDNRNYAMqUIeEeCDx8TG4eQuQIEKJHAAEAizZCFz/SMBAPh+PDwrIsAHvgABeNMLCADATZvAMByH/w/qQplcAYCEAcB0kThLCIAUAEB6jkKmAEBGAYCdmCZTAKAEAGDLY2LjAFAtAGAnf+bTAICd+Jl7AQBblCEVAaCRACATZYhEAGg7AKzPVopFAFgwABRmS8Q5ANgtADBJV2ZIALC3AMDOEAuyAAgMADBRiIUpAAR7AGDIIyN4AISZABRG8lc88SuuEOcqAAB4mbI8uSQ5RYFbCC1xB1dXLh4ozkkXKxQ2YQJhmkAuwnmZGTKBNA/g88wAAKCRFRHgg/P9eM4Ors7ONo62Dl8t6r8G/yJiYuP+5c+rcEAAAOF0ftH+LC+zGoA7BoBt/qIl7gRoXgugdfeLZrIPQLUAoOnaV/Nw+H48PEWhkLnZ2eXk5NhKxEJbYcpXff5nwl/AV/1s+X48/Pf14L7iJIEyXYFHBPjgwsz0TKUcz5IJhGLc5o9H/LcL//wd0yLESWK5WCoU41EScY5EmozzMqUiiUKSKcUl0v9k4t8s+wM+3zUAsGo+AXuRLahdYwP2SycQWHTA4vcAAPK7b8HUKAgDgGiD4c93/+8//UegJQCAZkmScQAAXkQkLlTKsz/HCAAARKCBKrBBG/TBGCzABhzBBdzBC/xgNoRCJMTCQhBCCmSAHHJgKayCQiiGzbAdKmAv1EAdNMBRaIaTcA4uwlW4Dj1wD/phCJ7BKLyBCQRByAgTYSHaiAFiilgjjggXmYX4IcFIBBKLJCDJiBRRIkuRNUgxUopUIFVIHfI9cgI5h1xGupE7yAAygvyGvEcxlIGyUT3UDLVDuag3GoRGogvQZHQxmo8WoJvQcrQaPYw2oefQq2gP2o8+Q8cwwOgYBzPEbDAuxsNCsTgsCZNjy7EirAyrxhqwVqwDu4n1Y8+xdwQSgUXACTYEd0IgYR5BSFhMWE7YSKggHCQ0EdoJNwkDhFHCJyKTqEu0JroR+cQYYjIxh1hILCPWEo8TLxB7iEPENyQSiUMyJ7mQAkmxpFTSEtJG0m5SI+ksqZs0SBojk8naZGuyBzmULCAryIXkneTD5DPkG+Qh8lsKnWJAcaT4U+IoUspqShnlEOU05QZlmDJBVaOaUt2ooVQRNY9aQq2htlKvUYeoEzR1mjnNgxZJS6WtopXTGmgXaPdpr+h0uhHdlR5Ol9BX0svpR+iX6AP0dwwNhhWDx4hnKBmbGAcYZxl3GK+YTKYZ04sZx1QwNzHrmOeZD5lvVVgqtip8FZHKCpVKlSaVGyovVKmqpqreqgtV81XLVI+pXlN9rkZVM1PjqQnUlqtVqp1Q61MbU2epO6iHqmeob1Q/pH5Z/YkGWcNMw09DpFGgsV/jvMYgC2MZs3gsIWsNq4Z1gTXEJrHN2Xx2KruY/R27iz2qqaE5QzNKM1ezUvOUZj8H45hx+Jx0TgnnKKeX836K3hTvKeIpG6Y0TLkxZVxrqpaXllirSKtRq0frvTau7aedpr1Fu1n7gQ5Bx0onXCdHZ4/OBZ3nU9lT3acKpxZNPTr1ri6qa6UbobtEd79up+6Ynr5egJ5Mb6feeb3n+hx9L/1U/W36p/VHDFgGswwkBtsMzhg8xTVxbzwdL8fb8VFDXcNAQ6VhlWGX4YSRudE8o9VGjUYPjGnGXOMk423GbcajJgYmISZLTepN7ppSTbmmKaY7TDtMx83MzaLN1pk1mz0x1zLnm+eb15vft2BaeFostqi2uGVJsuRaplnutrxuhVo5WaVYVVpds0atna0l1rutu6cRp7lOk06rntZnw7Dxtsm2qbcZsOXYBtuutm22fWFnYhdnt8Wuw+6TvZN9un2N/T0HDYfZDqsdWh1+c7RyFDpWOt6azpzuP33F9JbpL2dYzxDP2DPjthPLKcRpnVOb00dnF2e5c4PziIuJS4LLLpc+Lpsbxt3IveRKdPVxXeF60vWdm7Obwu2o26/uNu5p7ofcn8w0nymeWTNz0MPIQ+BR5dE/C5+VMGvfrH5PQ0+BZ7XnIy9jL5FXrdewt6V3qvdh7xc+9j5yn+M+4zw33jLeWV/MN8C3yLfLT8Nvnl+F30N/I/9k/3r/0QCngCUBZwOJgUGBWwL7+Hp8Ib+OPzrbZfay2e1BjKC5QRVBj4KtguXBrSFoyOyQrSH355jOkc5pDoVQfujW0Adh5mGLw34MJ4WHhVeGP45wiFga0TGXNXfR3ENz30T6RJZE3ptnMU85ry1KNSo+qi5qPNo3ujS6P8YuZlnM1VidWElsSxw5LiquNm5svt/87fOH4p3iC+N7F5gvyF1weaHOwvSFpxapLhIsOpZATIhOOJTwQRAqqBaMJfITdyWOCnnCHcJnIi/RNtGI2ENcKh5O8kgqTXqS7JG8NXkkxTOlLOW5hCepkLxMDUzdmzqeFpp2IG0yPTq9MYOSkZBxQqohTZO2Z+pn5mZ2y6xlhbL+xW6Lty8elQfJa7OQrAVZLQq2QqboVFoo1yoHsmdlV2a/zYnKOZarnivN7cyzytuQN5zvn//tEsIS4ZK2pYZLVy0dWOa9rGo5sjxxedsK4xUFK4ZWBqw8uIq2Km3VT6vtV5eufr0mek1rgV7ByoLBtQFr6wtVCuWFfevc1+1dT1gvWd+1YfqGnRs+FYmKrhTbF5cVf9go3HjlG4dvyr+Z3JS0qavEuWTPZtJm6ebeLZ5bDpaql+aXDm4N2dq0Dd9WtO319kXbL5fNKNu7g7ZDuaO/PLi8ZafJzs07P1SkVPRU+lQ27tLdtWHX+G7R7ht7vPY07NXbW7z3/T7JvttVAVVN1WbVZftJ+7P3P66Jqun4lvttXa1ObXHtxwPSA/0HIw6217nU1R3SPVRSj9Yr60cOxx++/p3vdy0NNg1VjZzG4iNwRHnk6fcJ3/ceDTradox7rOEH0x92HWcdL2pCmvKaRptTmvtbYlu6T8w+0dbq3nr8R9sfD5w0PFl5SvNUyWna6YLTk2fyz4ydlZ19fi753GDborZ752PO32oPb++6EHTh0kX/i+c7vDvOXPK4dPKy2+UTV7hXmq86X23qdOo8/pPTT8e7nLuarrlca7nuer21e2b36RueN87d9L158Rb/1tWeOT3dvfN6b/fF9/XfFt1+cif9zsu72Xcn7q28T7xf9EDtQdlD3YfVP1v+3Njv3H9qwHeg89HcR/cGhYPP/pH1jw9DBY+Zj8uGDYbrnjg+OTniP3L96fynQ89kzyaeF/6i/suuFxYvfvjV69fO0ZjRoZfyl5O/bXyl/erA6xmv28bCxh6+yXgzMV70VvvtwXfcdx3vo98PT+R8IH8o/2j5sfVT0Kf7kxmTk/8EA5jz/GMzLdsAAAAgY0hSTQAAeiUAAICDAAD5/wAAgOkAAHUwAADqYAAAOpgAABdvkl/FRgAACx1JREFUeNrs3V9Im/cex/FvD7072AOTR+haVhtDOYkntAjTaK3Ti+JFKEKYG+sY6dBSTgO7KK1ryIV4EWJb6YWQ9mLKaejasXkIR+S5CF60c84mHYgSYmDEHB3tGSRTOIZzfy6e5zGJSarWP8v0/aIXSZ6fT578fr98nt/vl/TJkbq//k2Avffk6TefXv6EesBW/IkqAEAwAQDBBIBgAgCCCQDBBAAEEwCCCQAIJgAgmAAQTACwS8HkV2PJhPHv5UjPHh7DQHiH+/eNJ9WBzZ8lkXtFs49cu/witnQM+P0aKJ9rZHZnjeVXY2HflooZr2jmsesNZcb9Gw5vb99xfwBH37BtMWTr9B6kF5sas3R5Nuuzj9ULzx29owRFhTbQH0bPo5nOzJDZEXxzHMuczeyg6bcTTBtPMret8cGWz4IivvGkU8YsXR5xPX55s7lKRLIvtE2ukXCHSFNTnYhko/5JxeM0iYikQmZHv8hAWD2RVpoK/qSwLT1NVaL9bWPvaP4jReX9aqzbJCKyGI2uFe1hLTrUcGWTPpF3MFoK6y+nORHzpEJmh4RVmRVnt0kWQ7ZOGU9qryXvSEocg69EMbzlIFTvZtLzaMZjXfA39o7KQDjhrMtLsZ5H4+0izU0mrdHDyk29RfTT6pu73HoHznWY9TYtCsrcU7+IZov2sJXmXt9D7ukaLo70eAu6+lo0milf/rBP5USkzmkMRNUBCfY2DC7Uu0d6ZCCc6y7XaiZtZovNbJmsceuDT6VJmbXYzBabf8HqOTdnttjMlqEXykV9KGuySsBmttjM+t4KOqJHmTRbbGaLzTypuB+5RAY+asqMaY9YClvdN94tIa3wrNJ0zEhPt7GHsHKtaPBs6jZmCvo4PHcwUeXiSI8EP2sMLWajfovN7OgXETE5G+ZsZout0yvi7dKPbXCh/qOBssdQXAxbVdhA3i5zSLrVAXGNuPVUEr96MT2oVW+mU5+OKc2K3s3i1ptaexkNukmX86s3jQ5sdBjXSKcS9etdrmD45ledEtIen6vRT5al3wKa0SuTmaabhcsg/Z36nofiVueG6ZvbuqA9b0CsdZuWP8zBtKg3g/EuDfYGFqyexMX0oNZgrnZrlRFezroqa7sWBKm59eZcy6RERCT4yjgFSHbhuZYvwR/iYvyJ1sYnlMW5fv3OzxmxXuiR/u+iSveGGXhRYc9cSn+ww3rM5NR6drepqr7DVTRT0F+RPkXNHczrTMkqyEa/8xaPHPUMKnkMxcWwnalcYQN5u8bEmbythBu1yfVAg6mq+XYsmYglbzcdM53TOkau20g2/XNRg5btcq6TSmrWaN9kRuo7XBLsDWeaPCWWePIL98/qrV3mLZAfKwFxb1ylzQ3Tcs4osvCDtoAw+mxhTUoP6wimN6iqOVOiJ20c0eyQ0bFGr7SYLXMNiaIFwk3D1GLb1aGv6/HLWDIRS7olMBhd22kxbIty0pU7VfhzXW43F6RGjSjzOEqmyeZhWvotEOxtsNjGMk0f+aTn0UwyEUsmrklg6EV2S6tU2yp/WINJH22GxKllRPBVxtTg226sKWZ9bxfqxTiVGT2j7pwx9/Gdq8u8Hs0784ylCp4rv3DPCaXEHt7a+hEWzjJqqlJjFpu5sXf0jHKs7DGUKIadLDN1SyhvCpZKy4ZRyU66XEEH9p8zZV4H89Jk6EXBc+UXdp1USuxhU2alajGk5ZepZsMISJ8i6KOnY5uWP+iObrLG5DROU5OKxyljlq5RkdHQeDIxLpYujyMUTuSVadzCh1lZpTMR6zZGNwXlvV1jaiyZcBonov78xT/JRv3e0oXXUqm1EnsoXow0dRtPvRYdarhS8vj6Z1Ox7kSsOxUq/KzEeFxEUqnFssdQqhi2s8a03kABueaxLvgb+0Uk0DHjeTkijb2fBS7M3o4lb2t9JKQvMrxtlyvowKmQ2Vs4B0+FzMGShbOLqWyJPRS+BfIW0Y2d+1JJ/T2VWkxtHFgFOmY8iZgnr+d45sqXP+iO7O81vwfCL09818iH8YfR73TNb7rcYVljAgCCCcAhc3R/n66/s5E6B10OjJgAEEwAQDABIJgAgGACQDABAMEEAAQTAIIJALbnSGQ2Ri0AYMQEAG8cMWV+W6UWsA8Wf3ld994J6gGMmAAQTABAMAEgmACAYAJAMAEAwQQABBMAggkACCYABBMAEEwADoOyP3gZe9B29al28+Ovpt02qgp7LNflLj+MXK+nQgimIml16fxU5LqIiMwH7A/idBTsrfnAM6PLxR60Dc9PfXGWSiGYNqhxXKoxbh+vbaGesNfOur8wbr57yk59HHKbrDGtqH1259LnDJewf+JP/Kc6GC4RTOX6x3Brm09c3uZv/6FyMTnsj9WJW3+XAGuah91WrmAZH2593sH6N3ZmK1ewjD1oe3ae1SVs5esC6aWl5tp3qSrsMVIJ68p+KnfDeWdGv2P3hu5WU1XYSytq39WnIk/b9O+o8I0BpnLUAipkKgdseSoHAAQTAIIJAAgmACCYABBMAEAwAThYyl6PKe87lnZv6G7uYgMiIrKi9jn8ERFp8fzrvuOd4sd1fE0OwO4F0+rEve87QlP3a0TS6o17ass9R3VeZvmWXZHpuyKrE7cGJ97PxVa1427EkQspnxynigHszVTudG3+f0lZ+en72vPaOOidlnZ59lPJ747Hn/hPfZ43mAKAHY6Y3rl0zzXc2mYXkeYv1XsF07H/LEfkpDFEOnlKXpXawfzzJc8nXJAAwG6OmFbU4NPmL9XQly0v7jyZ3+5uVye+Xu54n+ESgN0MpviT5x+o9xzVNY770w/FHYjlbcu/8unKq+VSw6VvfKddG9bLAWBnwZReWsrdOX66uWBj9fsfLP0YN6Z1UjQyWp34etn7IR/GAXhLZX+MwNve52i9o927HJi6VLj1c2mzt2rbHkY2fpNg0HfaFWG4BOBtcT0m7BOux4QdT+UAgGACAIIJAMEEAAQTAIIJAAgmAAQTABBMAAgmACCYAIBgAkAwAQDBBIBgAgCCCQDBBAAEEwAQTAAIJgAgmAAQTABAMAEgmACAYAJAMAFAhTgSmY1RCwAqytG/VP2ZWgDAVA4ACCYABBMAEEwACCYAIJgAEEwAQDABAMEEgGACAIIJAMEEAAQTAIIJAAgmAAQTABBMAEAwASCYAIBgAkAwAQDBBIBgAgCCCQAIJgAEEwAQTAAIJgDYNUf/m/0ftQCgohzJ/LZKLaCSLf7yuu69E9QDUzkAIJgAgGACQDABAMEEgGACAIIJAMEEAAQTAIIJAAgmACCYAByIYJoP2Fvb7K1t9tZAjHpCpVuduNU2PE89HPBgig//2B6ZnopMT0UCcvVBnJpC5UqrN1oH/33aTk0c+GCq/+J6vX7zeG0L9YQKtvJrrXf67qenqInDMJUzxP55p/Z8PTWFilV9tr6aWjhYjm5yLlL7rsrDyFkqCkCFjJjmA45lV+Q6wyUAFRJM8wH7j+2kEoCKmcql1Rvub0W+tT/V7n/81bTbRm0B2Bf8GAEqHT9GwFQOAAgmACCYABBMAEAwASCYAIBgAnDYgyk+3No3kS69bUXts3M5FAD7GkzzAXvrc7lcctvqxK023/IpLocCYF+DKSbtkWl3R8lt6V9rb03d/7CW6gOwr8FkO1v+v+/W1NtqqDoA+z+VAwCCCQAIJgAEEwBsDddjQqXjekyMmACAYAIAggkAwQQABBMAggkACCYABBMAEEwAQDABIJgAgGACQDABAMEEgGACAIIJAMEEAAQTABBMAAgmACCYABBMAEAwATjo/j8AmPHKs6ses0EAAAAASUVORK5CYII=)"
      ]
    },
    {
      "cell_type": "code",
      "metadata": {
        "colab": {
          "base_uri": "https://localhost:8080/"
        },
        "id": "E5jwHuU52wkj",
        "outputId": "5bca6a24-7b96-4260-ae01-7daafb29966a"
      },
      "source": [
        "N = int(input())\n",
        "X = input().split()\n",
        "\n",
        "for i in range(N):\n",
        "    X[i] = int(X[i])\n",
        "\n",
        "minimum = min(X)\n",
        "result = X.index(minimum) + 1\n",
        "\n",
        "print(result)"
      ],
      "execution_count": 35,
      "outputs": [
        {
          "output_type": "stream",
          "name": "stdout",
          "text": [
            "3\n",
            "8 0 7\n",
            "2\n"
          ]
        }
      ]
    }
  ]
}