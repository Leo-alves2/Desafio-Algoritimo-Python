{
  "nbformat": 4,
  "nbformat_minor": 0,
  "metadata": {
    "colab": {
      "name": "Resolvendo desafio algoritmos com Python.ipynb",
      "provenance": [],
      "collapsed_sections": [],
      "authorship_tag": "ABX9TyNojdLO7MlmF2u7IYdA//Iv",
      "include_colab_link": true
    },
    "kernelspec": {
      "name": "python3",
      "display_name": "Python 3"
    },
    "language_info": {
      "name": "python"
    }
  },
  "cells": [
    {
      "cell_type": "markdown",
      "metadata": {
        "id": "view-in-github",
        "colab_type": "text"
      },
      "source": [
        "<a href=\"https://colab.research.google.com/github/Leo-alves2/Desafio-Algoritimo-Python/blob/main/Resolvendo_desafio_algoritmos_com_Python.ipynb\" target=\"_parent\"><img src=\"https://colab.research.google.com/assets/colab-badge.svg\" alt=\"Open In Colab\"/></a>"
      ]
    },
    {
      "cell_type": "markdown",
      "metadata": {
        "id": "6ND_wws_v5Lb"
      },
      "source": [
        "### 1 / 3 - Fibonacci Fácil"
      ]
    },
    {
      "cell_type": "markdown",
      "metadata": {
        "id": "eAcJTvgqwPA6"
      },
      "source": [
        "A seguinte sequência de números 0 1 1 2 3 5 8 13 21... é conhecida como série de Fibonacci. Nessa sequência, cada número, depois dos 2 primeiros, é igual à soma dos 2 anteriores. Escreva um algoritmo que leia um inteiro N (N < 46) e mostre os N primeiros números dessa série.\n",
        "\n",
        "## Entrada\n",
        "\n",
        "O arquivo de entrada contém um valor inteiro N (0 < N < 46).\n",
        "\n",
        "## Saída\n",
        "\n",
        "Os valores devem ser mostrados na mesma linha, separados por um espaço em branco. Não deve haver espaço após o último valor.\n",
        "\n",
        "## Exemplo\n",
        "\n",
        "\n",
        "---\n",
        "\n",
        "![Fibonacci.png](data:image/png;base64,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)\n",
        "\n"
      ]
    },
    {
      "cell_type": "code",
      "metadata": {
        "colab": {
          "base_uri": "https://localhost:8080/"
        },
        "id": "AQjYvxDewHA6",
        "outputId": "667e39bf-cd16-4a2e-9f9b-6e8c385a25e6"
      },
      "source": [
        "n = int(input())\n",
        "\n",
        "fib_list = [0]\n",
        "\n",
        "n = n - 1\n",
        "\n",
        "a = 0\n",
        "\n",
        "b = 1\n",
        "\n",
        "for i in range(n):\n",
        "\n",
        "  som = a + b\n",
        "\n",
        "  a = b\n",
        "\n",
        "  b = som\n",
        "\n",
        "  fib_list.append(a)\n",
        "\n",
        "\n",
        "\n",
        "fib_string = (' '.join(str(x) for x in fib_list))\n",
        "\n",
        "print(fib_string)"
      ],
      "execution_count": null,
      "outputs": [
        {
          "output_type": "stream",
          "name": "stdout",
          "text": [
            "5\n",
            "0 1 1 2 3\n"
          ]
        }
      ]
    },
    {
      "cell_type": "markdown",
      "metadata": {
        "id": "eO6LrpcMxz0V"
      },
      "source": [
        "### 2 / 3 - Exibindo Números Pares"
      ]
    },
    {
      "cell_type": "markdown",
      "metadata": {
        "id": "2rBXqlCcyMM8"
      },
      "source": [
        "Crie um programa que leia um número e mostre os números pares até esse número, inclusive ele mesmo.\n",
        "\n",
        "## Entrada\n",
        "\n",
        "Você receberá 1 valor inteiro N, onde N > 0.\n",
        "\n",
        "## Saída\n",
        "\n",
        "Exiba todos os números pares até o valor de entrada, sendo um em cada linha. \n",
        "\n",
        "## Exemplo\n",
        "\n",
        "![numeros.png](data:image/png;base64,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)"
      ]
    },
    {
      "cell_type": "code",
      "metadata": {
        "colab": {
          "base_uri": "https://localhost:8080/"
        },
        "id": "EO9PGf6evpy4",
        "outputId": "98869bd9-845a-457a-d461-2c03634693fe"
      },
      "source": [
        "n = int(input())\n",
        "\n",
        "for i in range(1,n+1):\n",
        "    if i % 2 == 0:\n",
        "     print(i)"
      ],
      "execution_count": null,
      "outputs": [
        {
          "output_type": "stream",
          "name": "stdout",
          "text": [
            "6\n",
            "2\n",
            "4\n",
            "6\n"
          ]
        }
      ]
    },
    {
      "cell_type": "markdown",
      "metadata": {
        "id": "BvlI5N6vzFr8"
      },
      "source": [
        "### 3 / 3 - A Resposta de Theon"
      ]
    },
    {
      "cell_type": "markdown",
      "metadata": {
        "id": "vMM8yG-_zNED"
      },
      "source": [
        "Ramsay: \"(...) você vence se conseguir adivinhar quem eu sou e por que estou torturando você.\"\n",
        "\n",
        "Theon deve pensar rápido e adivinhar quem é seu algoz! Entretanto, Ramsay já decidiu o que ele irá fazer depois que Theon der sua resposta.\n",
        "\n",
        "Theon pode dizer que seu algoz é alguma dentre N pessoas. Considere que as pessoas são numeradas de 1 a N. Se Theon responder que seu algoz é a pessoa i, Ramsay irá atingi-lo Ti vezes.\n",
        "\n",
        "Sua tarefa é ajudar Theon a determinar qual deve ser sua resposta de forma a minimizar o número de vezes que ele será atingido.\n",
        "\n",
        "## Entrada\n",
        "\n",
        "A primeira linha contém um inteiro N (1 ≤ N ≤ 100). A segunda linha contém N inteiros T1, T2, ..., TN (0 ≤ Ti ≤ 20).\n",
        "\n",
        "## Saída\n",
        "\n",
        "Imprima uma linha contendo o número da pessoa que Theon deve dizer ser seu algoz. Se existe mais de uma resposta possível, imprima a menor.\n",
        "\n",
        "## Exemplos\n",
        "\n",
        "![Theon.png](data:image/png;base64,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)"
      ]
    },
    {
      "cell_type": "code",
      "metadata": {
        "colab": {
          "base_uri": "https://localhost:8080/"
        },
        "id": "E5jwHuU52wkj",
        "outputId": "5bca6a24-7b96-4260-ae01-7daafb29966a"
      },
      "source": [
        "N = int(input())\n",
        "X = input().split()\n",
        "\n",
        "for i in range(N):\n",
        "    X[i] = int(X[i])\n",
        "\n",
        "minimum = min(X)\n",
        "result = X.index(minimum) + 1\n",
        "\n",
        "print(result)"
      ],
      "execution_count": null,
      "outputs": [
        {
          "output_type": "stream",
          "name": "stdout",
          "text": [
            "3\n",
            "8 0 7\n",
            "2\n"
          ]
        }
      ]
    },
    {
      "cell_type": "markdown",
      "metadata": {
        "id": "0U_mXP4J9Wwh"
      },
      "source": [
        "# Desafios matemáticos em Python\n",
        "\n",
        "### 1 / 3 - Rodízio de cavalos e carruagens\n",
        "\n",
        "Desafio\n",
        "O rodízio de veículos de Bravoos é uma restrição à circulação de veículos na cidade. Com o propósito de melhorar as condições ambientais reduzindo a carga de poluentes na atmosfera,incluindo na região de Westeros, se consolidou como um instrumento para reduzir congestionamentos nas principais vias da cidade, nos horários de maior movimento. Nas ruas delimitadoras não é permitido o tráfego de cavalos e carruagens que estejam dentro da restrição. Há uma escala que determina em quais dias da semana quais veículos não podem circular. Essa escala é regida pelo último dígito da placa do animal, sendo:\n",
        "\n",
        "Segunda-feira, digito final da placa 1 e 2\n",
        "Terça-feira, digito final da placa 3 e 4\n",
        "Quarta-feira, digito final da placa 5 e 6\n",
        "Quinta-feira, digito final da placa 7 e 8\n",
        "Sexta-feira, digito final da placa 9 e 0\n",
        "Os motoristas que são flagrados violando a restrição de circulação são autuados com multa de 4 galinhas e condenados a passar 1 semana na Muralha.\n",
        "\n",
        "###Entrada\n",
        "A primeira linha de entrada representa a quantidade de testes N (0 <= N < 1000) que deverão ser considerados. As demais entradas são cadeia de caracteres com tamanho máximo S (1 <= S <= 100) que representam cada placa que deverá ser analisada, de tal forma que, cada placa fique em uma única linha de entrada. O formato esperado para uma placa veicular válida em Bravoos é \"AAA-9999\", tal que A é um caracter válido em [A-Z], e 9 um dígito numérico válido em [0-9].\n",
        "\n",
        "###Saída\n",
        "\n",
        "O conjunto de valores válidos como saída são: SEGUNDA, TERCA, QUARTA, QUINTA e SEXTA, de acordo com a tabela de restrições predefinida, e FALHA caso a placa não apresente o padrão definido.\n",
        "\n",
        "\n",
        "![Rodízio de cavalos e carruagens.png](data:image/png;base64,iVBORw0KGgoAAAANSUhEUgAAAYgAAAD5CAIAAACyKDWhAAAACXBIWXMAAAsTAAALEwEAmpwYAAAKT2lDQ1BQaG90b3Nob3AgSUNDIHByb2ZpbGUAAHjanVNnVFPpFj333vRCS4iAlEtvUhUIIFJCi4AUkSYqIQkQSoghodkVUcERRUUEG8igiAOOjoCMFVEsDIoK2AfkIaKOg6OIisr74Xuja9a89+bN/rXXPues852zzwfACAyWSDNRNYAMqUIeEeCDx8TG4eQuQIEKJHAAEAizZCFz/SMBAPh+PDwrIsAHvgABeNMLCADATZvAMByH/w/qQplcAYCEAcB0kThLCIAUAEB6jkKmAEBGAYCdmCZTAKAEAGDLY2LjAFAtAGAnf+bTAICd+Jl7AQBblCEVAaCRACATZYhEAGg7AKzPVopFAFgwABRmS8Q5ANgtADBJV2ZIALC3AMDOEAuyAAgMADBRiIUpAAR7AGDIIyN4AISZABRG8lc88SuuEOcqAAB4mbI8uSQ5RYFbCC1xB1dXLh4ozkkXKxQ2YQJhmkAuwnmZGTKBNA/g88wAAKCRFRHgg/P9eM4Ors7ONo62Dl8t6r8G/yJiYuP+5c+rcEAAAOF0ftH+LC+zGoA7BoBt/qIl7gRoXgugdfeLZrIPQLUAoOnaV/Nw+H48PEWhkLnZ2eXk5NhKxEJbYcpXff5nwl/AV/1s+X48/Pf14L7iJIEyXYFHBPjgwsz0TKUcz5IJhGLc5o9H/LcL//wd0yLESWK5WCoU41EScY5EmozzMqUiiUKSKcUl0v9k4t8s+wM+3zUAsGo+AXuRLahdYwP2SycQWHTA4vcAAPK7b8HUKAgDgGiD4c93/+8//UegJQCAZkmScQAAXkQkLlTKsz/HCAAARKCBKrBBG/TBGCzABhzBBdzBC/xgNoRCJMTCQhBCCmSAHHJgKayCQiiGzbAdKmAv1EAdNMBRaIaTcA4uwlW4Dj1wD/phCJ7BKLyBCQRByAgTYSHaiAFiilgjjggXmYX4IcFIBBKLJCDJiBRRIkuRNUgxUopUIFVIHfI9cgI5h1xGupE7yAAygvyGvEcxlIGyUT3UDLVDuag3GoRGogvQZHQxmo8WoJvQcrQaPYw2oefQq2gP2o8+Q8cwwOgYBzPEbDAuxsNCsTgsCZNjy7EirAyrxhqwVqwDu4n1Y8+xdwQSgUXACTYEd0IgYR5BSFhMWE7YSKggHCQ0EdoJNwkDhFHCJyKTqEu0JroR+cQYYjIxh1hILCPWEo8TLxB7iEPENyQSiUMyJ7mQAkmxpFTSEtJG0m5SI+ksqZs0SBojk8naZGuyBzmULCAryIXkneTD5DPkG+Qh8lsKnWJAcaT4U+IoUspqShnlEOU05QZlmDJBVaOaUt2ooVQRNY9aQq2htlKvUYeoEzR1mjnNgxZJS6WtopXTGmgXaPdpr+h0uhHdlR5Ol9BX0svpR+iX6AP0dwwNhhWDx4hnKBmbGAcYZxl3GK+YTKYZ04sZx1QwNzHrmOeZD5lvVVgqtip8FZHKCpVKlSaVGyovVKmqpqreqgtV81XLVI+pXlN9rkZVM1PjqQnUlqtVqp1Q61MbU2epO6iHqmeob1Q/pH5Z/YkGWcNMw09DpFGgsV/jvMYgC2MZs3gsIWsNq4Z1gTXEJrHN2Xx2KruY/R27iz2qqaE5QzNKM1ezUvOUZj8H45hx+Jx0TgnnKKeX836K3hTvKeIpG6Y0TLkxZVxrqpaXllirSKtRq0frvTau7aedpr1Fu1n7gQ5Bx0onXCdHZ4/OBZ3nU9lT3acKpxZNPTr1ri6qa6UbobtEd79up+6Ynr5egJ5Mb6feeb3n+hx9L/1U/W36p/VHDFgGswwkBtsMzhg8xTVxbzwdL8fb8VFDXcNAQ6VhlWGX4YSRudE8o9VGjUYPjGnGXOMk423GbcajJgYmISZLTepN7ppSTbmmKaY7TDtMx83MzaLN1pk1mz0x1zLnm+eb15vft2BaeFostqi2uGVJsuRaplnutrxuhVo5WaVYVVpds0atna0l1rutu6cRp7lOk06rntZnw7Dxtsm2qbcZsOXYBtuutm22fWFnYhdnt8Wuw+6TvZN9un2N/T0HDYfZDqsdWh1+c7RyFDpWOt6azpzuP33F9JbpL2dYzxDP2DPjthPLKcRpnVOb00dnF2e5c4PziIuJS4LLLpc+Lpsbxt3IveRKdPVxXeF60vWdm7Obwu2o26/uNu5p7ofcn8w0nymeWTNz0MPIQ+BR5dE/C5+VMGvfrH5PQ0+BZ7XnIy9jL5FXrdewt6V3qvdh7xc+9j5yn+M+4zw33jLeWV/MN8C3yLfLT8Nvnl+F30N/I/9k/3r/0QCngCUBZwOJgUGBWwL7+Hp8Ib+OPzrbZfay2e1BjKC5QRVBj4KtguXBrSFoyOyQrSH355jOkc5pDoVQfujW0Adh5mGLw34MJ4WHhVeGP45wiFga0TGXNXfR3ENz30T6RJZE3ptnMU85ry1KNSo+qi5qPNo3ujS6P8YuZlnM1VidWElsSxw5LiquNm5svt/87fOH4p3iC+N7F5gvyF1weaHOwvSFpxapLhIsOpZATIhOOJTwQRAqqBaMJfITdyWOCnnCHcJnIi/RNtGI2ENcKh5O8kgqTXqS7JG8NXkkxTOlLOW5hCepkLxMDUzdmzqeFpp2IG0yPTq9MYOSkZBxQqohTZO2Z+pn5mZ2y6xlhbL+xW6Lty8elQfJa7OQrAVZLQq2QqboVFoo1yoHsmdlV2a/zYnKOZarnivN7cyzytuQN5zvn//tEsIS4ZK2pYZLVy0dWOa9rGo5sjxxedsK4xUFK4ZWBqw8uIq2Km3VT6vtV5eufr0mek1rgV7ByoLBtQFr6wtVCuWFfevc1+1dT1gvWd+1YfqGnRs+FYmKrhTbF5cVf9go3HjlG4dvyr+Z3JS0qavEuWTPZtJm6ebeLZ5bDpaql+aXDm4N2dq0Dd9WtO319kXbL5fNKNu7g7ZDuaO/PLi8ZafJzs07P1SkVPRU+lQ27tLdtWHX+G7R7ht7vPY07NXbW7z3/T7JvttVAVVN1WbVZftJ+7P3P66Jqun4lvttXa1ObXHtxwPSA/0HIw6217nU1R3SPVRSj9Yr60cOxx++/p3vdy0NNg1VjZzG4iNwRHnk6fcJ3/ceDTradox7rOEH0x92HWcdL2pCmvKaRptTmvtbYlu6T8w+0dbq3nr8R9sfD5w0PFl5SvNUyWna6YLTk2fyz4ydlZ19fi753GDborZ752PO32oPb++6EHTh0kX/i+c7vDvOXPK4dPKy2+UTV7hXmq86X23qdOo8/pPTT8e7nLuarrlca7nuer21e2b36RueN87d9L158Rb/1tWeOT3dvfN6b/fF9/XfFt1+cif9zsu72Xcn7q28T7xf9EDtQdlD3YfVP1v+3Njv3H9qwHeg89HcR/cGhYPP/pH1jw9DBY+Zj8uGDYbrnjg+OTniP3L96fynQ89kzyaeF/6i/suuFxYvfvjV69fO0ZjRoZfyl5O/bXyl/erA6xmv28bCxh6+yXgzMV70VvvtwXfcdx3vo98PT+R8IH8o/2j5sfVT0Kf7kxmTk/8EA5jz/GMzLdsAAAAgY0hSTQAAeiUAAICDAAD5/wAAgOkAAHUwAADqYAAAOpgAABdvkl/FRgAAG+BJREFUeNrs3V1oG+eaB/CnS+6WdEHGgrThSErMYR2tUMmSZCSrsnRRcjGYGJEcUzUHNSSm2AJfmMof6CLkQtixSy4Ekhec4JomMm6C1sHMReiFbB3ZnjRLiBgUw8Gxxoe0BvlIsAl7vxfzoRl92W4Sxx//H72oR++MZM3r/7zvRO+jT07/+38QwJ54kJj5xv813gfY1r/gLQAABBMAAIIJABBMAAAIJgBAMAEAIJgAAMEEAIBgAgBAMAHAAQ6mEU5YW1X++/Xu9Q/4Mm49ecfjRx6vcbe2f5bV8m/0/MfAe/4ldvQa4OOdIK3A3efvdrJGOOFJZEfNlN9o+adAgzaPRype3of9i9vvjjV++FXSdjF8mH7f9Yetl4a367M/cV8usDfuISj26Qk6MK7/uHxx64cWdrpxHNMLWwuLU7+bYKq8yAydyY06/zpNFHm85qOHrZeGKfDTr987jhPR2xXpocDdJ16iCxdOE9HbpyO/NA/7ThERrSdb2JtEt55wnxeaL+h20Z/L4QvHSdr3/I172i1V7Uc44copIqJXT5++qTrCm6c/nP12mz6heTFSCsu/jmNVGF5PtrD0hKPn5Ltyil4lbRfp8Zr0u2heSY3XEKnRDP7gIFTuZnT9x+XhMy9Hzt+4R7eerPpOa1Ls+o+PPUSOC6ekk/6k+Xv5jMiX1cZdTu3A5Q6jntOqoCw/9crTt1VH2MnpVo9QfrqzX929HtZ19TdPn27Vb3/Up3JEdNqnDES5WzR94+zoS2vw7nW69aTcXb4z/mJrabW1tP5iDMqDz+YLzc9bbS2ttpGXZ4a/eNHSamtp/WGl+St5KHvqDMVsLa22Fvlouo443PxLS6utpdXW8ktz8McA0a2/XNh6KG1p1Z/1yOMrlJQaP2++8KmSnkHlCE+av6saPJ+6oswU5HF4+cU8bf7q7nWa/uv55Ku3T0dabS3sTSKiU76zL2wtrbaLYaLwJfm1jb60/uVW3ddQ3Qx2Sn+CwpdaknSFu0WBu0E5lWiE+6owKr29Wxfl6Vizo1nuZrkz30vnSzmh23S5Ee57pQMrHSZw92Lz0xG5y+mGbyOcj5LS9hdG+WJZ+09Acu/bX7YufK+/DXLzonzkH3JnfBXTt+CZl9LzxujM6W3bH+VgeiWfBuWvdPpG7OWZ4dWvCqPSCQt4zhxXwst3+vgZjxQE6y/U0/lma52IiKZfK5cAevtyQcqX6b/lSNlFOsefN796cVP+4e9bdObL63Tz56fNVypm4FWNh1+syxu9Zz495ZN69pVTx63eQNVMQf6N5Clq+cX8tlXzLXj79Odw9chRzqCar6G6GexmKqc/QeFLD8m3NtT85Lw0ub519tRxx5CwtiqsDV349NQXUscodxt6W/h71Qmt2+UCJ5vXnyvnd22LrN4ATd94snVhuMYtHm3jm8/ls13nT0AbKzEKVt6lLQ/Tyv7cTC//Jt1AuJd6+YZqD+sQTA0cN/65Rk+qHNG8I6Vj3fvW2dL64uxq1Q3CbcO01fZeh76Bn34V1laFtSDFRp++eddmsCvNJwPlS8VIucu9zxtS95QoG2Zrpsn2YVr7T2D6xtlW28OtC3+J0PUfl9dWhbXV7yj2w8rbHd2l2lX7oxpM8mgzST4pI6Zfb506G9ltrDW3yEf70krKpUzpGae/UOY+kS9Ob/12T3Plebiuey5t4+ufN9c4wh+mvkL9LMN4fP1hq63l/I17f27+tO5rqNEM3uU20xVKaqZg6wWqGJW8S5fTdeCRL05t/TatSZMfVnTPpW0cONlc4wjbamk+/iop5dcpY8UISJ4iyKOnT7dtf6gd2/4ek0+5TP3SPOyjh62X7hHdSz5eW31MrZeG2eSTVU2b8zv4x6y3zRdXhSvK6EbXPnzpISesrfqUC9FN7c0/evt0JFy78Zv19Tc1jlB9M/LUFeWp3zz94ey3NV/fzefrwpVV4cp6Uv9vJcp2Ilpff1X3NdRqBru5x6SeoBh9N3zm5cj5m0QU8y4P/3qXzt/4a+zL50PC2pDUR5LyTYY/2uV0HXg92RLWz8HXky3TNRu/fbX+tsYR9H8CmpvoysEj62vy39T6q/XKgVXMuzy8Kgxres7wi/rtD7VP9ry07q0nv37+83n8Y/xR9JFK66LLHZV7TAAACCYAOEqO7fkz3rx4Hm87oMsBRkwAgGACAEAwAQCCCQAAwQQACCYAAAQTAACCCQAQTAAACCYAOMg+4Z8LeBcAYH8F09Y/S3gXYG+8+sdvp//0Od4HwFQOABBMAAAIJgBAMAEAIJgAAMEEAIBgAgBAMAEAggkAAMEEAAgmAAAEEwAgmAAA9lqjb+IV4u7uhPS/XZOZoA3vFnxApflQZ2RFu6VrMhOkcickcgxy4yxxA+wIL21wDs/dYQ3Kw7moq0dpy4STYx1GIqIiNxChIU0zONDBVODEtjTfS0RE2RgTz/G9Vrxf8MEYOsbTHVU5IhD5Y+k+e7ldUZNHQtzdz83dYQ1U4Pp9i95kmjdWHDb3YIFoZUZgcWU9HFM5I9uh9oYTZifeKth/bG1dcn49uk3DQx3GqhbZBdEzFB7eSGXxbh2OYFIvUNwA4xOvYbgEH0ki6GZcbsblZuK5ytnf/VnzSQNRScwz3nM1JmvC0ob3nKHpXLu4lMM7eWiCKRd1uSMUCDtmpzgUuoSPwx9L85k0n0mrNxOWRzoZl5txjVJIN8urvh0xlW93GomMDm9+er6A9/LAONbwUWtfJk1ExE7kXZilw34h3WMqcgPso1xHr5XIYLbwqU0i/VSu+GxxeYVnXbflvZ6VOnAL/NBM5YiICqLoMH+Gdwv2kyZ2KKyMg2xtXYn7XFE/0VteME1mlNFWZsK8sFLEu3bgR0wFrt93e1n+gQknx5rwbsHHkAi65Q8BSB8XKDN0XDUxvgFKjnXYgzzFGJeblJb3PYsRS4DXDP+9lp4I58DnBg4EfEsK7B18Swq816kcAACCCQAQTAAACCYAAAQTACCYAAAQTABwpIJJiLujmpXZRW5AXlHpcjMh3Wdthbhbfai/xtq6XNQ1oFmvVJoPVTbWHCEm6PYtzYd0LwMOo1zUVdGFtFuULlHg+uWOp2tf1T1yUU0vEuK6PlnxI+w3x7Z5vMBN5RnKc0U7q37yu1ydq1ynqTQf6kx55vhMnY/VZmNMkPx+bcDNUEiqnlOaD43OnxvroLoVoIrcaIoYM07X4VdRknCzvKXA9bti1yoLFpbbC3E3szSh6TPTooOmuJLUV229E2Z1vWeBm8oPhnvxEfADO2IqPls0Xx27Zllcrrky+4TZmReLRJSdidBguP6H/QXy8JmgV7OliQ0q1XMMZgsR1a8AVeAiG4GwByfraDM6vI5Gj9t658LlEgKl5QXTtfGAZn2ctS9GUpEM4dGiN8RiidXBDabS8oLJaydbmyn1rFQ9xWN88gkuvt5wehwNzrTNbm04KGt3GvWzxXIFqFwU1aBAvvg1XkluMFv4/KbUqVZSFo+NrF7tNdX+tXdhdJ6LdVOgRkk5ODDBlJ2JWDw2IrJ7zCMz6nRdqoaTaktP+vnqwNIlV427RVU3Anzay1dlBSghPm1JotzK0THbXXnPSNmy5OHHdzrMER7dNrdZicjWZoo8UkvEGTqumiIjG+HLuM7tdw2/jGBplhKzjFoKPhu02Ym095jsyrz9pGl5aZPIoB9aKzeM6o/I5kPTFqVovDze1laAOkndCZ4S7oj8qFvUFZ+Hw6f6ay+kLbmoa3r+8ljDkU5JzDOWy0SUSyUokXCrPVfotcrHtHv8DtGJ4dJBDqZcKj/IZZRrVIHrf5SjihmZWqfJ7vEHt+031ak0SqE6u0hHtrN8JqjO7x6cHGtUrhAOM2tfzMTIZeFqK3KjEUuANxJlF8ThOV65gBW5gQdZsqHnHI5gEuI9omeuPHI2Orz5zmg2/Y00lRuRtqp1mqx9mUDU5WaovL1xSAnxzsgKkU8eDTmH5+6cW0EFKKjL/nX4ficTn+AvV0z9ZknpQnyvgSgXDW54k+VhddO5dtEXE/D9YwcK6jHB3kE9JtghfPIbABBMAAAIJgBAMAEAIJgAAMEEAIBgAgAEk6LIDWjKLZXmQ+7+mZ/7tQvfCly/K5bRlmdyuZl4rsaxsjF95Sa1EpO2PBMVuQH97mq1ncar7eDQqK7HpG7X9oGKH7UVmpQGFT+iCx00dT/53cSOcTQgf3NpdiblmbvDGoqfDkSUAjfCo9vmWNplJ175blQh7k61Va4YEOLubury6yJvNH81zY8TFbj+cc45zjZJ5ZwsXU7djtOWZJo3VtZmgkOteq1cZWWl3XrH3WHfTeWa2CHvwoxAueh9s1RrSdlCVOCmaEK3ci0b667YQkSUo7Y03+vRbJFLqRARGR1eWlwuEBU2zaH0nctm7Y4ptRaK3eNPLOCKd1RVV1bay91h/wUTkaHjKnW7euiqWm7C0HGVuuPc/PiiV1c7IhcN0mSNQY21avHkZn6lfHylRJzVVrGwriCK5R9OWBw4U0dVzcpK1VZus+VpYE9it7vDgQommfhas57O/nU4fzti0ZXaEuI9FFNH4Mqdgpr3mwAaqazHVKeyUhXHIJdJ8/J/E+qtg53uDvtM45rfueh9M5eZeKAWSyYiMjg9jP+ktWISx5dHRta+TLqv7jG1w5+SmK/Tymg2k6gdZJlxro6EintM9Ssr7cg77g77MpiEeA9dTTcR9cUW6t9+zkWDNJnZ+Z1pg9OzodTH2cxT+ze1q6NYvZbp5QLbYSQqiKLfg/50FL1jZSUUZjp8wSTE3eVxkD04ueRm4hPV2VTkphPEJ5SaOOQY5Larf9rEBkip3OSPpes1tl1un5KrNTHhJItTdfTUq6zkqSjDdOfcrnZHYaYDAPWYYO+gHhPsED75DQAIJgAABBMAIJgAABBMAIBgAgBAMAEAgqmKEFe/Rb6syA1oyuXU3lgsl2pS6y5pCu4oK+lqNCtw/TWK8gAAgonkjJjKM+J9Tl8yIvdggWhkRmi0MbdMQ/KiymR7apwrEhU50austJyknmi2djPhGYXlZnPehdF5LAoHQDDpBkHPFs1Xx65VlIzILoieofDwRirbYKO1Q63LZTSbiYioiWXV1QCfmZh6zWxsucqKXBcFABBMCrmom63NlHpWnlIJSxvec4amc+3iUq7xRiKibIxxTVtC2gV0pfmQm90IVNSZq2qWi7rcU6ahDiNOEwCCqRwWMxGLx0ZEdo9ZnaMVuCmptqTR4c1Pq3eFamyUansveSb9fLkUTjbGuEbp6qAz0ahZkRtgXAveWNdy5YQRAA6/Rot4hbi7u1wKkPyxdJ+ditwAO8KrG53Dc3dYQ82NpBsijVJoTDf2ycaYJY++XEGNZkVuIEJDqNZ8OGARL+xQg3pMuVR+kMsoc6sC1/8oR/YTywumycxYuVhlaKXIOmpt1E7KNvMrJq9+RlZ8veE0ndA/Y41mv2/w5jakEgCCSR4u9YieuXK4GB3efOft/2L+2xIoD43I6rX03Bz5z/+x3KjYGOEM5pHBhGa0ZSP9aMsxyI0biHJRTYVmqZlupObX1sYEgCM/lQPAVA4+CnzyGwAQTAAACCYAQDABACCYAADBBACAYAIABBMAAIIJAADBBAAIJgAABBMAIJgAABBMAIBgAgBAMAEAggkAAMEEAIBgAgAEEwAAggkAEEwAAAgmAEAwAQAgmAAAdD7hnwt4FwBgXzn2b8f/Fe8CAGAqBwCAYAIABBMAAIIJABBMAAAIJgBAMAEAIJgAABBMAIBgAgBAMAEAggkA4D069r9v/w/vAgDsK59s/bOEdwE+tFf/+O30nz7H+wCYygEAggkAAMEEAAgmAAAEEwAgmAAAEEwAAAgmAEAwAQAgmAAAwQQAgGACAAQTAMD+DaZc1DUwX8B7BR9QkRtgXG7lv5igbBfi7mi23KziR6JcVNOYqDQf0v5Y3R4OhmPbthDi06KDLHir4ANzDs/dYQ26TQVuKs9Qniva2aY/cMR33B3274gpG5syDV1DLMFHGUY9WzRfHbtmWVwufITdYb8GU4Hrv28OV1zEAPZIaXnB5LWTrc2UetagnOFsd3kO2BlZ2e3ucMCCqTQ/Ll4bxxgY9sjySKecLyGuSETZmYjFYyMiu8c8MiPU3a9rMpPm5f/mwg51sL/D3WE/qnuPqciNRlZ4cs3KPyfc+Vi6z453DD6UintMwtIsJWaZhBo0Qdtuut877g77NJia2DGeVc5xfEC8PNZhxNsFeyaXyg9yGWXAXuD6H+XIbt2r3WH/TuUAPhoh3iN6HOXbCEaHN98j/cN/IujWzfh2uTscCPiWFNgL+JYUwIgJABBMAAAIJgBAMAEAIJgAAMEEAIBgAgB4f8FU5AZ2/ym1inJOpfmQ/AG5fk7+CJUQr1GIR22Mz8UdBajHBFrHPuzhszEmSH6/tv/NUCjNG6U+NDp/bqyDOLEtzfcq7eM5vteqNB5NEWPGWToaUI8JdjRi0lzENFehpZi8MZ6rHgRVXJ0E8vCZoFezpYkNKmvuDGapzJOR7VBXV54wOzW9KrIRCHtwjo7wMAr1mDBiqlZex5uN9XMl6WqWIA+fCSqD5HSfnYR4Z/5qmh+vcQRbg2WTBW4q3x426nKQHTFNZlh5iO4Tr2VY4nCOjqzS8oLJO042Mk09K3XUrQs2263WwCAi6prc3e5w0EZMmulY+cT72+SssbV1JZZyRCUx3+W162b1te4WVchFfYvekDrAzkVd7ggFwo7ZKa5EREJ82pIM2nB+jhLUY4KdjJhyUVdPgoj8E3yM+l/v9Ii2XuWGUf0r4Xxo2pLU1lGx9mXSRETsRN41I5yk7gRPCXdEftQtVt99gEMH9ZhgB8FUEEXHIDfONhEVuWl1s/i6RHYDERVfb0ijJ7NlNrWLs16aD41SqE51p4IoOsyf2VlptijN7x6cHEOBuqMH9ZgQTDUZHV7qZF23icjp7zKbpK0m88Yo4+KJiByD3Lg0RJpIudyMNNHbrsqlEO+MrBD55NGQc3juzrmVft/tZflxJpwcwz+ggBDvET1z+oJKndFs2kuUCLrlYZBjkBs372p3XOEOCtRjgr2AekywK/jkNwAgmAAAEEwAgGACAEAwAQCCCQAAwQQACKbdqVdrSbuRKBvTfzdhLurayXo6OEJQjwneUzBlY4xrgXS1lkbzV9N8Js0n21PjchIJcTezpG0lLdBN85k0H6Pucu0UOOqcw3PKWlxl/XaBm8oz4v2637i7jXfcHfZnMNWux6TmS2WtpdLygkkuM2B0eEkqgpOjtjTf69Fe4lL5dqe0UM7u8ScWMGiCuj0Q9ZiOql3XY1JV1VrazK+QWf5/g9lCIhGRtXJxb0EUyz+csDhwCqAe1GPCiKnxlE2ux6TcG8L8Cz4A1GOCnYyYqusxWfsy6b667bXDn5KYr9PKaDaTWGuQBUcd6jHBDoKpTj2m+gxOz8aDLNnsRLSZp/ZvalZcIqvXMr1cYDuMRAVR9HtQphJqXhdRjwnBVHNoU7MeUyNNbIA0hZnqlVWyXW6fkusxMeEki3MANcY7qMd0tKEeE+wF1GOCXcEnvwEAwQQAgGACAAQTAACCCQAQTAAACCYAQDBVqahoo6ubo6uyREJcrafj7udKVOD6yxV29BWadErzocqaO4x+UZ7myJV1DorcANbuHQpqlS65X9Wr0FSrB+aiuq6oVmXKRV0VXUvuhw26MRFRgesPoVjKx3Rsm8cL3FSeoTxXtLPq52jLa5qyMSae43utRKX5UGfKM8dnNGu4C9Jnc6UdS/Mhd79nrqJEARW4ft+i2c+Ut2RjqbY036tmYrrvBCcqWzTPKO8eWSCnBefxoCvNh6YtyTSvWcZUrFo9J3WJKZO+mzXmYMRgTFALPGmUD17g+l0D3mT5a+uFR4tE/IMsi0+K79MR0zYVbU6YnXlRXghOg+FGlSUMHeMT1Yu8i5vmcGbsG+16F3tQ7Q2fmRgiIiPbYdc8o7Y3j4vXQu04i0dFNtadb9zNqrWHt61HaGTvxEyRR2qbXCrfHg4NiksYie/TYJJrv9naTKlnpeopHuNb9IbYJqLi6w2nx9G0zXOdsDg2RH3ANdmt9ffKPRhRKs+pY3ifeE0ZLgnxzvzVINYAHwqGjqumiM/dz+m6WUUhlJ11M70V8Xf71+F8zzYFdtVLLBFlF0SPo8no8OZRxXB/BlOdijZSd0m1pSf9fHVgbUuZ3je46ySN7XsopuZOLupyRygQdsxOSX03G5syzWGkfXjYg3wmHaZR+QalMtuSCy2Ns03V18Wdlo03dIQGxeAOC8yX5u9veM8ZpGoZUxxWku6/e0z1KtqUJ+f2CbNrRmCDtpOm5aVNosZj7M38islr1BTGbPDU8c78Ve1acGtfJk1ExE7kXTMC60kFZ5dplhmRH2by6s0sOMCa2DGezUVdMwIb/Kz6UU03s/Wm+d7SfGhmR8c1suHhATaem6zbN8Vli6eJiAorqRV+Wa5+QeRYKbLoV/trxCRVtFFqAyZrTbkLougwf0ZS9e7phiMgEuI94vDXO5l5CXF3qq1OhQr5Ga19mhfm9E/wSKUjMaqqNyk7YSHNbdDCSorMn1VG3lA43zOVr1m+JxcNboQvW0m6qRpT62GmJ1EvfL+NmOpVtPlGmsrJQxUmnBxrkkc0gahSjEna3kFEK7elik5E5I+l7+xg5lXkBroTRAml5o5/gr8s9vtuL1PFM8JhopRLVbqKjaio62ldk5mgjQwd4xOabkZKhW9Dx7i2+3VNZoJNtSZ0Kd+i7gZW+eBjNiIqcJER07VMeR9bm6l7nHPisrfnUI8J9gLqMcH7msoBACCYAAAQTACAYAIAQDABAIIJAADBBABHNZiq6zGVV1pqKy7VXsBdmg9pKjTJ1Mo7NYrs6JZxZmMMyuIAIJgqFbipPCPer5UOBa7fJ15Tl4a0LVRnU5GboZDUYM67MCqtWRHi05Zkms+kebUeRYGLbASqmrmZJfLjFAEgmCqTpX49JuHRbXNMU3XE/nU4X7lcrokNKsW3DGa5nFsulW93ShvtHn9iQZCepU0qZmJweij1rESUo7Y03+vBGQJAMFVOxOrXYyqJecZyQrvFYLbw+c0GI692p5GoIIrlrScsDiKi3zf4cpadlJZZWm0oaQKAYKqhTj2mbWd//dU3lZSScgAA2/oj9ZjU8VFqk8ioH0NdJjKydzLaektSOWeloLLRbCZ1zLSZXyGzWkJXmjy+3sBZAcCIqZ5t6jHZ2roS2pvi2ZkIKTePdKk0SqFymXciq1e9Y1UQRb/HRtR0rl09+O8b5D1nwIkBwIip1nCpfj0mmT3IU4xxuZWfuyYz1fVPOyMrREo9QKn0pe1y+5S8hQknWSIiI3uN3IyLiIj8E7wR5wXgSHs/9ZiK3AC7ESh/qxKAHuoxwfuayu1CEzs2ST07qwwPALAnIyYAjJhg342YAAAQTACAYAIAQDABAIIJAADBBACAYAIABBMAAIIJABBMAAAIJgBAMAEAIJgAABBMAIBgAgDYsf8fAIOYJhOyVvHyAAAAAElFTkSuQmCC)"
      ]
    },
    {
      "cell_type": "code",
      "metadata": {
        "colab": {
          "base_uri": "https://localhost:8080/"
        },
        "id": "74qDSfGd-UD4",
        "outputId": "e7698be8-28f7-4e70-c8db-ef2257e771d4"
      },
      "source": [
        "def teste_entrada(plc):\n",
        "    if len(plc)==1 or len(plc[0])!= 3 or len(plc[1])!= 4:\n",
        "        print('FALHA')\n",
        "        return 0\n",
        "    return 1\n",
        "\n",
        "def teste_letras(plc1):\n",
        "    for letra in plc1:\n",
        "        asc2= ord(letra)\n",
        "        if (65<=asc2 <= 90): \n",
        "            pass\n",
        "        else:\n",
        "            print('FALHA')\n",
        "            return 0\n",
        "    return 1\n",
        "#Exemplo ABC-123411ABD\n",
        "\n",
        "def semana(final):\n",
        "    dia = {'1':'SEGUNDA',\n",
        "           '2':'SEGUNDA',\n",
        "           '3':'TERCA',\n",
        "           '4':'TERCA',\n",
        "           '5':'QUARTA',\n",
        "           '6':'QUARTA',\n",
        "           '7':'QUINTA',\n",
        "           '8':'QUINTA',\n",
        "           '9':'SEXTA', \n",
        "           '0':'SEXTA' }\n",
        "    return dia[final]\n",
        "\n",
        "\n",
        "numero_teste = int(input())\n",
        "\n",
        "while  numero_teste > 1000 or numero_teste<0:\n",
        "    numero_teste = int(input())"
      ],
      "execution_count": 1,
      "outputs": [
        {
          "name": "stdout",
          "output_type": "stream",
          "text": [
            "3\n"
          ]
        }
      ]
    },
    {
      "cell_type": "markdown",
      "metadata": {
        "id": "3lqJDAZ1-juf"
      },
      "source": [
        "###2 / 3 - Preenchimento de Vetor III\n",
        "\n",
        "Leia um valor X. Coloque este valor na primeira posição de um vetor N[100]. Em cada posição subsequente de N (1 até 99), coloque a metade do valor armazenado na posição anterior, conforme o exemplo abaixo. Imprima o vetor N.\n",
        "\n",
        "###Entrada\n",
        "\n",
        "A entrada contem um valor de dupla precisão com 4 casas decimais.\n",
        "\n",
        "###Saída\n",
        "\n",
        "Para cada posição do vetor N, escreva \"N[i] = Y\", onde i é a posição do vetor e Y é o valor armazenado naquela posição. Cada valor do vetor deve ser apresentado com 4 casas decimais.\n",
        "\n",
        "![Preenchimento de Vetor III.png](data:image/png;base64,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)"
      ]
    },
    {
      "cell_type": "code",
      "metadata": {
        "colab": {
          "base_uri": "https://localhost:8080/"
        },
        "id": "zcXCG4dv_D0m",
        "outputId": "832d35d5-1bab-4b43-9d56-e421eb31f32c"
      },
      "source": [
        "x = float(input())\n",
        "\n",
        "for i in range(0,100):\n",
        "\n",
        "   print('N[' + str(i) + '] = ' + str(format(x, '.4f')))\n",
        "\n",
        "   x /= 2"
      ],
      "execution_count": 2,
      "outputs": [
        {
          "output_type": "stream",
          "name": "stdout",
          "text": [
            "2000000\n",
            "N[0] = 2000000.0000\n",
            "N[1] = 1000000.0000\n",
            "N[2] = 500000.0000\n",
            "N[3] = 250000.0000\n",
            "N[4] = 125000.0000\n",
            "N[5] = 62500.0000\n",
            "N[6] = 31250.0000\n",
            "N[7] = 15625.0000\n",
            "N[8] = 7812.5000\n",
            "N[9] = 3906.2500\n",
            "N[10] = 1953.1250\n",
            "N[11] = 976.5625\n",
            "N[12] = 488.2812\n",
            "N[13] = 244.1406\n",
            "N[14] = 122.0703\n",
            "N[15] = 61.0352\n",
            "N[16] = 30.5176\n",
            "N[17] = 15.2588\n",
            "N[18] = 7.6294\n",
            "N[19] = 3.8147\n",
            "N[20] = 1.9073\n",
            "N[21] = 0.9537\n",
            "N[22] = 0.4768\n",
            "N[23] = 0.2384\n",
            "N[24] = 0.1192\n",
            "N[25] = 0.0596\n",
            "N[26] = 0.0298\n",
            "N[27] = 0.0149\n",
            "N[28] = 0.0075\n",
            "N[29] = 0.0037\n",
            "N[30] = 0.0019\n",
            "N[31] = 0.0009\n",
            "N[32] = 0.0005\n",
            "N[33] = 0.0002\n",
            "N[34] = 0.0001\n",
            "N[35] = 0.0001\n",
            "N[36] = 0.0000\n",
            "N[37] = 0.0000\n",
            "N[38] = 0.0000\n",
            "N[39] = 0.0000\n",
            "N[40] = 0.0000\n",
            "N[41] = 0.0000\n",
            "N[42] = 0.0000\n",
            "N[43] = 0.0000\n",
            "N[44] = 0.0000\n",
            "N[45] = 0.0000\n",
            "N[46] = 0.0000\n",
            "N[47] = 0.0000\n",
            "N[48] = 0.0000\n",
            "N[49] = 0.0000\n",
            "N[50] = 0.0000\n",
            "N[51] = 0.0000\n",
            "N[52] = 0.0000\n",
            "N[53] = 0.0000\n",
            "N[54] = 0.0000\n",
            "N[55] = 0.0000\n",
            "N[56] = 0.0000\n",
            "N[57] = 0.0000\n",
            "N[58] = 0.0000\n",
            "N[59] = 0.0000\n",
            "N[60] = 0.0000\n",
            "N[61] = 0.0000\n",
            "N[62] = 0.0000\n",
            "N[63] = 0.0000\n",
            "N[64] = 0.0000\n",
            "N[65] = 0.0000\n",
            "N[66] = 0.0000\n",
            "N[67] = 0.0000\n",
            "N[68] = 0.0000\n",
            "N[69] = 0.0000\n",
            "N[70] = 0.0000\n",
            "N[71] = 0.0000\n",
            "N[72] = 0.0000\n",
            "N[73] = 0.0000\n",
            "N[74] = 0.0000\n",
            "N[75] = 0.0000\n",
            "N[76] = 0.0000\n",
            "N[77] = 0.0000\n",
            "N[78] = 0.0000\n",
            "N[79] = 0.0000\n",
            "N[80] = 0.0000\n",
            "N[81] = 0.0000\n",
            "N[82] = 0.0000\n",
            "N[83] = 0.0000\n",
            "N[84] = 0.0000\n",
            "N[85] = 0.0000\n",
            "N[86] = 0.0000\n",
            "N[87] = 0.0000\n",
            "N[88] = 0.0000\n",
            "N[89] = 0.0000\n",
            "N[90] = 0.0000\n",
            "N[91] = 0.0000\n",
            "N[92] = 0.0000\n",
            "N[93] = 0.0000\n",
            "N[94] = 0.0000\n",
            "N[95] = 0.0000\n",
            "N[96] = 0.0000\n",
            "N[97] = 0.0000\n",
            "N[98] = 0.0000\n",
            "N[99] = 0.0000\n"
          ]
        }
      ]
    },
    {
      "cell_type": "markdown",
      "metadata": {
        "id": "KyoQnoUv_Sh_"
      },
      "source": [
        "###3 / 3 - A Mudança\n",
        "\n",
        "![A Mudança.png](data:image/png;base64,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)\n",
        "\n",
        "Hermione está criando um novo Vira Tempo especialmente para programadores. É impressionante as vantagens que ele oferece e o conforto pra codar que ele tem. O artefato ainda está em desenvolvimento e ele prometeu consertar os bugs e colocar uns apetrechos melhores e, em troca, pediu um sistema simples para o modo Standy Bay. O problema é que o artefato por si só sempre tem o ângulo de inclinação do Sol/Lua(de 0 a 360). Valendo um Vira Tempo, caso deseja aceitar: dada em grau da inclinação do Sol/Lua, informe em qual período do dia ele se encontra.\n",
        "\n",
        "###Entrada\n",
        "\n",
        "A entrada contém um número inteiro M (0 ≤ M ≤ 360) representando o grau do Sol/Lua. Como a posição muda constantemente seu programa receberá diversos casos a cada segundo(EOF).\n",
        "\n",
        "###Saída\n",
        "\n",
        "Imprima uma saudação referente ao período do dia que ele se encontra: \"Boa Tarde!!\", \"Boa Noite!!\", \"Bom Dia!!\" e \"De Madrugada!!\".\n",
        "\n",
        "![A Mudança1.png](data:image/png;base64,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)"
      ]
    },
    {
      "cell_type": "code",
      "metadata": {
        "colab": {
          "base_uri": "https://localhost:8080/",
          "height": 629
        },
        "id": "292ISdRuAAUd",
        "outputId": "172bcf6f-dda9-456f-b620-137ec59acf97"
      },
      "source": [
        "while True:\n",
        "\n",
        "    try:\n",
        "\n",
        "        n = int(input())\n",
        "\n",
        "        if ((n >= 0 and n < 90) or n == 360):\n",
        "\n",
        "            print('Bom Dia!!')\n",
        "\n",
        "        elif (n >=90 and n < 180):\n",
        "\n",
        "            print('Boa Tarde!!')\n",
        "\n",
        "        elif (n >= 180 and n < 270):\n",
        "\n",
        "            print('Boa Noite!!')\n",
        "\n",
        "        elif (n >= 270 and n < 360):\n",
        "\n",
        "            print('De Madrugada!!')\n",
        "\n",
        "\n",
        "\n",
        "    except EOFError:\n",
        "\n",
        "        break"
      ],
      "execution_count": 4,
      "outputs": [
        {
          "output_type": "stream",
          "name": "stdout",
          "text": [
            "360\n",
            "Bom Dia!!\n",
            "350\n",
            "De Madrugada!!\n",
            "27\n",
            "Bom Dia!!\n"
          ]
        },
        {
          "output_type": "error",
          "ename": "KeyboardInterrupt",
          "evalue": "ignored",
          "traceback": [
            "\u001b[0;31m---------------------------------------------------------------------------\u001b[0m",
            "\u001b[0;31mKeyboardInterrupt\u001b[0m                         Traceback (most recent call last)",
            "\u001b[0;32m/usr/local/lib/python3.7/dist-packages/ipykernel/kernelbase.py\u001b[0m in \u001b[0;36m_input_request\u001b[0;34m(self, prompt, ident, parent, password)\u001b[0m\n\u001b[1;32m    728\u001b[0m             \u001b[0;32mtry\u001b[0m\u001b[0;34m:\u001b[0m\u001b[0;34m\u001b[0m\u001b[0;34m\u001b[0m\u001b[0m\n\u001b[0;32m--> 729\u001b[0;31m                 \u001b[0mident\u001b[0m\u001b[0;34m,\u001b[0m \u001b[0mreply\u001b[0m \u001b[0;34m=\u001b[0m \u001b[0mself\u001b[0m\u001b[0;34m.\u001b[0m\u001b[0msession\u001b[0m\u001b[0;34m.\u001b[0m\u001b[0mrecv\u001b[0m\u001b[0;34m(\u001b[0m\u001b[0mself\u001b[0m\u001b[0;34m.\u001b[0m\u001b[0mstdin_socket\u001b[0m\u001b[0;34m,\u001b[0m \u001b[0;36m0\u001b[0m\u001b[0;34m)\u001b[0m\u001b[0;34m\u001b[0m\u001b[0;34m\u001b[0m\u001b[0m\n\u001b[0m\u001b[1;32m    730\u001b[0m             \u001b[0;32mexcept\u001b[0m \u001b[0mException\u001b[0m\u001b[0;34m:\u001b[0m\u001b[0;34m\u001b[0m\u001b[0;34m\u001b[0m\u001b[0m\n",
            "\u001b[0;32m/usr/local/lib/python3.7/dist-packages/jupyter_client/session.py\u001b[0m in \u001b[0;36mrecv\u001b[0;34m(self, socket, mode, content, copy)\u001b[0m\n\u001b[1;32m    802\u001b[0m         \u001b[0;32mtry\u001b[0m\u001b[0;34m:\u001b[0m\u001b[0;34m\u001b[0m\u001b[0;34m\u001b[0m\u001b[0m\n\u001b[0;32m--> 803\u001b[0;31m             \u001b[0mmsg_list\u001b[0m \u001b[0;34m=\u001b[0m \u001b[0msocket\u001b[0m\u001b[0;34m.\u001b[0m\u001b[0mrecv_multipart\u001b[0m\u001b[0;34m(\u001b[0m\u001b[0mmode\u001b[0m\u001b[0;34m,\u001b[0m \u001b[0mcopy\u001b[0m\u001b[0;34m=\u001b[0m\u001b[0mcopy\u001b[0m\u001b[0;34m)\u001b[0m\u001b[0;34m\u001b[0m\u001b[0;34m\u001b[0m\u001b[0m\n\u001b[0m\u001b[1;32m    804\u001b[0m         \u001b[0;32mexcept\u001b[0m \u001b[0mzmq\u001b[0m\u001b[0;34m.\u001b[0m\u001b[0mZMQError\u001b[0m \u001b[0;32mas\u001b[0m \u001b[0me\u001b[0m\u001b[0;34m:\u001b[0m\u001b[0;34m\u001b[0m\u001b[0;34m\u001b[0m\u001b[0m\n",
            "\u001b[0;32m/usr/local/lib/python3.7/dist-packages/zmq/sugar/socket.py\u001b[0m in \u001b[0;36mrecv_multipart\u001b[0;34m(self, flags, copy, track)\u001b[0m\n\u001b[1;32m    618\u001b[0m         \"\"\"\n\u001b[0;32m--> 619\u001b[0;31m         \u001b[0mparts\u001b[0m \u001b[0;34m=\u001b[0m \u001b[0;34m[\u001b[0m\u001b[0mself\u001b[0m\u001b[0;34m.\u001b[0m\u001b[0mrecv\u001b[0m\u001b[0;34m(\u001b[0m\u001b[0mflags\u001b[0m\u001b[0;34m,\u001b[0m \u001b[0mcopy\u001b[0m\u001b[0;34m=\u001b[0m\u001b[0mcopy\u001b[0m\u001b[0;34m,\u001b[0m \u001b[0mtrack\u001b[0m\u001b[0;34m=\u001b[0m\u001b[0mtrack\u001b[0m\u001b[0;34m)\u001b[0m\u001b[0;34m]\u001b[0m\u001b[0;34m\u001b[0m\u001b[0;34m\u001b[0m\u001b[0m\n\u001b[0m\u001b[1;32m    620\u001b[0m         \u001b[0;31m# have first part already, only loop while more to receive\u001b[0m\u001b[0;34m\u001b[0m\u001b[0;34m\u001b[0m\u001b[0;34m\u001b[0m\u001b[0m\n",
            "\u001b[0;32mzmq/backend/cython/socket.pyx\u001b[0m in \u001b[0;36mzmq.backend.cython.socket.Socket.recv\u001b[0;34m()\u001b[0m\n",
            "\u001b[0;32mzmq/backend/cython/socket.pyx\u001b[0m in \u001b[0;36mzmq.backend.cython.socket.Socket.recv\u001b[0;34m()\u001b[0m\n",
            "\u001b[0;32mzmq/backend/cython/socket.pyx\u001b[0m in \u001b[0;36mzmq.backend.cython.socket._recv_copy\u001b[0;34m()\u001b[0m\n",
            "\u001b[0;32m/usr/local/lib/python3.7/dist-packages/zmq/backend/cython/checkrc.pxd\u001b[0m in \u001b[0;36mzmq.backend.cython.checkrc._check_rc\u001b[0;34m()\u001b[0m\n",
            "\u001b[0;31mKeyboardInterrupt\u001b[0m: ",
            "\nDuring handling of the above exception, another exception occurred:\n",
            "\u001b[0;31mKeyboardInterrupt\u001b[0m                         Traceback (most recent call last)",
            "\u001b[0;32m<ipython-input-4-f3ed12c7cfa0>\u001b[0m in \u001b[0;36m<module>\u001b[0;34m()\u001b[0m\n\u001b[1;32m      3\u001b[0m     \u001b[0;32mtry\u001b[0m\u001b[0;34m:\u001b[0m\u001b[0;34m\u001b[0m\u001b[0;34m\u001b[0m\u001b[0m\n\u001b[1;32m      4\u001b[0m \u001b[0;34m\u001b[0m\u001b[0m\n\u001b[0;32m----> 5\u001b[0;31m         \u001b[0mn\u001b[0m \u001b[0;34m=\u001b[0m \u001b[0mint\u001b[0m\u001b[0;34m(\u001b[0m\u001b[0minput\u001b[0m\u001b[0;34m(\u001b[0m\u001b[0;34m)\u001b[0m\u001b[0;34m)\u001b[0m\u001b[0;34m\u001b[0m\u001b[0;34m\u001b[0m\u001b[0m\n\u001b[0m\u001b[1;32m      6\u001b[0m \u001b[0;34m\u001b[0m\u001b[0m\n\u001b[1;32m      7\u001b[0m         \u001b[0;32mif\u001b[0m \u001b[0;34m(\u001b[0m\u001b[0;34m(\u001b[0m\u001b[0mn\u001b[0m \u001b[0;34m>=\u001b[0m \u001b[0;36m0\u001b[0m \u001b[0;32mand\u001b[0m \u001b[0mn\u001b[0m \u001b[0;34m<\u001b[0m \u001b[0;36m90\u001b[0m\u001b[0;34m)\u001b[0m \u001b[0;32mor\u001b[0m \u001b[0mn\u001b[0m \u001b[0;34m==\u001b[0m \u001b[0;36m360\u001b[0m\u001b[0;34m)\u001b[0m\u001b[0;34m:\u001b[0m\u001b[0;34m\u001b[0m\u001b[0;34m\u001b[0m\u001b[0m\n",
            "\u001b[0;32m/usr/local/lib/python3.7/dist-packages/ipykernel/kernelbase.py\u001b[0m in \u001b[0;36mraw_input\u001b[0;34m(self, prompt)\u001b[0m\n\u001b[1;32m    702\u001b[0m             \u001b[0mself\u001b[0m\u001b[0;34m.\u001b[0m\u001b[0m_parent_ident\u001b[0m\u001b[0;34m,\u001b[0m\u001b[0;34m\u001b[0m\u001b[0;34m\u001b[0m\u001b[0m\n\u001b[1;32m    703\u001b[0m             \u001b[0mself\u001b[0m\u001b[0;34m.\u001b[0m\u001b[0m_parent_header\u001b[0m\u001b[0;34m,\u001b[0m\u001b[0;34m\u001b[0m\u001b[0;34m\u001b[0m\u001b[0m\n\u001b[0;32m--> 704\u001b[0;31m             \u001b[0mpassword\u001b[0m\u001b[0;34m=\u001b[0m\u001b[0;32mFalse\u001b[0m\u001b[0;34m,\u001b[0m\u001b[0;34m\u001b[0m\u001b[0;34m\u001b[0m\u001b[0m\n\u001b[0m\u001b[1;32m    705\u001b[0m         )\n\u001b[1;32m    706\u001b[0m \u001b[0;34m\u001b[0m\u001b[0m\n",
            "\u001b[0;32m/usr/local/lib/python3.7/dist-packages/ipykernel/kernelbase.py\u001b[0m in \u001b[0;36m_input_request\u001b[0;34m(self, prompt, ident, parent, password)\u001b[0m\n\u001b[1;32m    732\u001b[0m             \u001b[0;32mexcept\u001b[0m \u001b[0mKeyboardInterrupt\u001b[0m\u001b[0;34m:\u001b[0m\u001b[0;34m\u001b[0m\u001b[0;34m\u001b[0m\u001b[0m\n\u001b[1;32m    733\u001b[0m                 \u001b[0;31m# re-raise KeyboardInterrupt, to truncate traceback\u001b[0m\u001b[0;34m\u001b[0m\u001b[0;34m\u001b[0m\u001b[0;34m\u001b[0m\u001b[0m\n\u001b[0;32m--> 734\u001b[0;31m                 \u001b[0;32mraise\u001b[0m \u001b[0mKeyboardInterrupt\u001b[0m\u001b[0;34m\u001b[0m\u001b[0;34m\u001b[0m\u001b[0m\n\u001b[0m\u001b[1;32m    735\u001b[0m             \u001b[0;32melse\u001b[0m\u001b[0;34m:\u001b[0m\u001b[0;34m\u001b[0m\u001b[0;34m\u001b[0m\u001b[0m\n\u001b[1;32m    736\u001b[0m                 \u001b[0;32mbreak\u001b[0m\u001b[0;34m\u001b[0m\u001b[0;34m\u001b[0m\u001b[0m\n",
            "\u001b[0;31mKeyboardInterrupt\u001b[0m: "
          ]
        }
      ]
    }
  ]
}